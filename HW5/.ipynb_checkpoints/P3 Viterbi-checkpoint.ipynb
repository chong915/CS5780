{
 "cells": [
  {
   "cell_type": "code",
   "execution_count": 1,
   "metadata": {},
   "outputs": [],
   "source": [
    "import numpy as np"
   ]
  },
  {
   "cell_type": "code",
   "execution_count": 35,
   "metadata": {},
   "outputs": [],
   "source": [
    "transition = np.array([[0.05, 0.1, 0.15, 0.7],\n",
    "                       [0.1, 0.05, 0.25, 0.6],\n",
    "                       [0.45, 0.15, 0.05, 0.35],\n",
    "                       [0.35, 0.2, 0.15, 0.3]])\n",
    "\n",
    "start = np.array([0.1, 0.4, 0.2, 0.3])\n",
    "\n",
    "emission = np.array([[0.4, 0.2, 0.1, 0.2, 0.1],\n",
    "                     [0.3, 0.1, 0.4, 0.1, 0.1],\n",
    "                     [0.1, 0.1, 0.1, 0.2, 0.5],\n",
    "                     [0.1, 0.4, 0.1, 0.3, 0.1]])"
   ]
  },
  {
   "cell_type": "code",
   "execution_count": 118,
   "metadata": {},
   "outputs": [],
   "source": [
    "def convert(word):\n",
    "    # i stands for the position of a character in a word\n",
    "    i = 0\n",
    "    delta = np.zeros([4, len(word)])\n",
    "    origin = np.zeros([4, len(word)-1])\n",
    "\n",
    "    for letter in word:\n",
    "        # j stands for an english letter\n",
    "        for j in range(4):\n",
    "            if i==0:\n",
    "                delta[j,i] = emission[j, letter]*start[j]\n",
    "            else:\n",
    "                m = np.argmax(transition[:,j]*delta[:,i-1])\n",
    "                delta[j,i] = emission[j, letter] * transition[m, j] * delta[m,i-1]\n",
    "                origin[j,i-1] = m\n",
    "        i+=1\n",
    "    \n",
    "    return delta, origin"
   ]
  },
  {
   "cell_type": "code",
   "execution_count": 119,
   "metadata": {},
   "outputs": [
    {
     "name": "stdout",
     "output_type": "stream",
     "text": [
      "[[0.01   0.0032]\n",
      " [0.16   0.0008]\n",
      " [0.02   0.004 ]\n",
      " [0.03   0.0384]]\n",
      "[[1.]\n",
      " [1.]\n",
      " [1.]\n",
      " [1.]]\n"
     ]
    }
   ],
   "source": [
    "word = [2, 1] # 0 = alpha, 1 = tau, 2 = eta, 3 = gamma, 4 = omega\n",
    "\n",
    "delta, origin = convert(word)\n",
    "print(delta)\n",
    "print(origin)"
   ]
  },
  {
   "cell_type": "code",
   "execution_count": 122,
   "metadata": {},
   "outputs": [
    {
     "name": "stdout",
     "output_type": "stream",
     "text": [
      "[[2.00e-02 1.26e-02 9.45e-05]\n",
      " [4.00e-02 5.40e-03 1.26e-04]\n",
      " [4.00e-02 1.35e-03 9.45e-04]\n",
      " [9.00e-02 2.70e-03 8.82e-04]]\n",
      "[[3. 3.]\n",
      " [3. 0.]\n",
      " [3. 0.]\n",
      " [3. 0.]]\n"
     ]
    }
   ],
   "source": [
    "word = [3, 0, 4] # 0 = alpha, 1 = tau, 2 = eta, 3 = gamma, 4 = omega\n",
    "\n",
    "delta, origin = convert(word)\n",
    "print(delta)\n",
    "print(origin)"
   ]
  },
  {
   "cell_type": "code",
   "execution_count": 121,
   "metadata": {},
   "outputs": [
    {
     "name": "stdout",
     "output_type": "stream",
     "text": [
      "[[1.000e-02 1.800e-02 2.450e-04 2.646e-04]\n",
      " [4.000e-02 4.500e-03 1.800e-04 7.560e-05]\n",
      " [1.000e-01 1.000e-03 5.400e-04 5.670e-05]\n",
      " [3.000e-02 3.500e-03 3.780e-03 4.536e-04]]\n",
      "[[2. 3. 3.]\n",
      " [2. 0. 3.]\n",
      " [1. 0. 3.]\n",
      " [2. 0. 3.]]\n"
     ]
    }
   ],
   "source": [
    "word = [4, 0, 3, 1] # 0 = alpha, 1 = tau, 2 = eta, 3 = gamma, 4 = omega\n",
    "\n",
    "delta, origin = convert(word)\n",
    "print(delta)\n",
    "print(origin)"
   ]
  }
 ],
 "metadata": {
  "kernelspec": {
   "display_name": "Python 3",
   "language": "python",
   "name": "python3"
  },
  "language_info": {
   "codemirror_mode": {
    "name": "ipython",
    "version": 3
   },
   "file_extension": ".py",
   "mimetype": "text/x-python",
   "name": "python",
   "nbconvert_exporter": "python",
   "pygments_lexer": "ipython3",
   "version": "3.7.3"
  }
 },
 "nbformat": 4,
 "nbformat_minor": 2
}
