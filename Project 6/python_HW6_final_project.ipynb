{
 "cells": [
  {
   "cell_type": "markdown",
   "metadata": {
    "nbgrader": {
     "grade": false,
     "locked": true,
     "solution": false
    }
   },
   "source": [
    "<h2>Final Project: Identifying Trump's Tweets</h2>"
   ]
  },
  {
   "cell_type": "markdown",
   "metadata": {
    "nbgrader": {
     "grade": false,
     "locked": true,
     "solution": false
    }
   },
   "source": [
    "<center>\n",
    "<img src=\"white_house.jpg\"/>\n",
    "</center>\n"
   ]
  },
  {
   "cell_type": "markdown",
   "metadata": {
    "nbgrader": {
     "grade": false,
     "locked": true,
     "solution": false
    }
   },
   "source": [
    "<h3>Introduction</h3>\n",
    "\n",
    "<p>The goal is to classify the device that Trump uses to write each tweet with. It's been hypothesized that President Trump tweets only from his android phone and that someone else (his staff) tweets from his account using an iPhone. Analyze the text of the tweet as well as other contextual information to predict where each tweet came from. </p>"
   ]
  },
  {
   "cell_type": "markdown",
   "metadata": {},
   "source": [
    "<h3>Rules</h3>\n",
    "\n",
    "<p> Rules of the competition: You may use any techniques you've learned in class including any open source implementations in packages such as scikit-learn, tensorflow, or pre-trained models. If you use any open source implementations, <b>please cite them in your comments</b>. The sharing of personal code between teams is strictly not allowed. Additionally obtaining a copy of the labeled test set through any means is expressly forbidden. </p>\n",
    "\n",
    "<p><b>NOTE: You are only allowed 10 submissions for this project. Please use them carefully. We will use your 10th and final submission (not be the best one) for grading.</b></p>"
   ]
  },
  {
   "cell_type": "markdown",
   "metadata": {},
   "source": [
    "<h3>Grading</h3>\n",
    "\n",
    "<p>There are two baselines we have implemented. <code>Baseline 1 = 0.7</code> and <code>Baseline 2 = 0.82</code>. If you beat the first baseline, you will 90 points. If you beat the second baseline, you'll get 100 points.</p>\n",
    "<p>The top 30 teams on the leaderboard will receive an extra 5 bonus points.</p>"
   ]
  },
  {
   "cell_type": "code",
   "execution_count": null,
   "metadata": {
    "collapsed": true
   },
   "outputs": [],
   "source": [
    "#<GRADED>\n",
    "import numpy as np\n",
    "import pandas as pd\n",
    "#</GRADED>\n",
    "\n",
    "## include your imports as necessary and cite open-source implementations appropriately"
   ]
  },
  {
   "cell_type": "code",
   "execution_count": null,
   "metadata": {
    "collapsed": true,
    "nbgrader": {
     "grade": false,
     "locked": true,
     "solution": false
    }
   },
   "outputs": [],
   "source": [
    "def read_files(train_file):\n",
    "    \"\"\"\n",
    "    Output:\n",
    "    df_X : pandas data frame of training data\n",
    "    Y    : numpy array of labels\n",
    "    \"\"\"\n",
    "    df = pd.read_csv(train_file, index_col=0)\n",
    "    df_X = df[df.columns[0:17]]\n",
    "    Y = np.array(df['label'])\n",
    "        \n",
    "    return df_X, Y"
   ]
  },
  {
   "cell_type": "markdown",
   "metadata": {
    "nbgrader": {
     "grade": false,
     "locked": true,
     "solution": false
    }
   },
   "source": [
    "<h3> Training Data </h3>\n",
    "\n",
    "<p> Take a look at the file <code>train.csv</code>. Here are the first 4 tweets in the train dataset.</p>"
   ]
  },
  {
   "cell_type": "code",
   "execution_count": null,
   "metadata": {
    "collapsed": true
   },
   "outputs": [],
   "source": [
    "df_X_train, Y_train = read_files('train.csv')\n",
    "df_X_train[:4]"
   ]
  },
  {
   "cell_type": "markdown",
   "metadata": {},
   "source": [
    "<h3> Train and Classify </h3>\n",
    "\n",
    "<p> Implement <code>train_and_classify</code>. It should extract feature vectors from the given pandas dataframes. Train a model and return the labels of the test data. The feature vectors and models to use are up to you to decide.</p>\n",
    "\n",
    "<p><b>Your final score will be determined by executing <code>train_and_classify</code> with the provided training set for training and a hidden test set for classification. We will then evaluate the accuracy of your output.</b></p>\n",
    "<p><b>NOTE: Please limit your training time to 10 minutes.</b></p>"
   ]
  },
  {
   "cell_type": "code",
   "execution_count": null,
   "metadata": {
    "collapsed": true,
    "nbgrader": {
     "grade": false,
     "locked": true,
     "solution": false
    }
   },
   "outputs": [],
   "source": [
    "#<GRADED>\n",
    "def train_and_classify(df_X_train, Y_train, df_X_test):\n",
    "    \"\"\"\n",
    "    Extracts features from df_X_train. Train a model\n",
    "    on training data and training labels (Y_train).\n",
    "    Predict the labels of df_X_test.\n",
    "    \n",
    "    df_X_train : pandas data frame of training data\n",
    "    Y_train    : numpy array of labels for training data\n",
    "    df_X_test  : pandas data frame of test data\n",
    "    \n",
    "    Output:\n",
    "    Y_test : numpy array of labels for test data\n",
    "    \"\"\"\n",
    "    \n",
    "    ## fill in code here\n",
    "    def extract_feature_vec(df_X):\n",
    "        # extracts feature vectors\n",
    "        return np.zeros(0)\n",
    "    \n",
    "    X_train = extract_feature_vec(df_X_train)\n",
    "    X_test  = extract_feature_vec(df_X_test)\n",
    "    \n",
    "    # create and train model (consider doing k-fold cross validation as well)\n",
    "    \n",
    "    # evaulate model\n",
    "    Y_test = np.zeros(len(df_X_test)) \n",
    "\n",
    "    return Y_test\n",
    "#</GRADED>"
   ]
  },
  {
   "cell_type": "markdown",
   "metadata": {},
   "source": [
    "<h3> Evaluation</h3>\n",
    "\n",
    "<p>Below is some code to see your accuracy when trained and tested on the training data set.</p>"
   ]
  },
  {
   "cell_type": "code",
   "execution_count": null,
   "metadata": {
    "collapsed": true
   },
   "outputs": [],
   "source": [
    "# evalulate and classify on training set\n",
    "Y_pred = train_and_classify(df_X_train, Y_train, df_X_train)\n",
    "\n",
    "def accuracy(Y_pred, Y_true):\n",
    "    return (Y_pred == Y_true).sum() / Y_pred.shape[0]\n",
    "\n",
    "acc = accuracy(Y_pred, Y_train)\n",
    "print('accurary: ' + str(round(acc * 100, 2)) + '%')"
   ]
  }
 ],
 "metadata": {
  "anaconda-cloud": {},
  "kernelspec": {
   "display_name": "Python 3 [3.6]",
   "language": "python",
   "name": "python3"
  },
  "language_info": {
   "codemirror_mode": {
    "name": "ipython",
    "version": 3
   },
   "file_extension": ".py",
   "mimetype": "text/x-python",
   "name": "python",
   "nbconvert_exporter": "python",
   "pygments_lexer": "ipython3",
   "version": "3.6.4"
  }
 },
 "nbformat": 4,
 "nbformat_minor": 1
}
